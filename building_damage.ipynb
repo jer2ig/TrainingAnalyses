{
 "cells": [
  {
   "cell_type": "code",
   "execution_count": 2,
   "metadata": {
    "collapsed": true,
    "pycharm": {
     "name": "#%%\n"
    }
   },
   "outputs": [],
   "source": [
    "%matplotlib inline\n",
    "import wandb\n",
    "import matplotlib.pyplot as plt\n",
    "import pandas as pd\n",
    "import numpy as np\n",
    "import seaborn as sns"
   ]
  },
  {
   "cell_type": "code",
   "execution_count": 24,
   "outputs": [],
   "source": [
    "# Walls, cls\n",
    "undam = np.array([[34,0,0],\n",
    "                      [4,0,0],\n",
    "                      [2,0,0]])\n",
    "dam = np.array([[5,0,22],\n",
    "                      [0,1,2],\n",
    "                      [0,0,6]])\n",
    "confusion = undam + dam"
   ],
   "metadata": {
    "collapsed": false,
    "pycharm": {
     "name": "#%%\n"
    }
   }
  },
  {
   "cell_type": "code",
   "execution_count": 26,
   "outputs": [],
   "source": [
    "# Walls, det\n",
    "undam = np.array([[38, 0, 0],\n",
    "                  [2, 0, 0],\n",
    "                  [0, 0, 0]])\n",
    "dam = np.array([[5, 2, 25],\n",
    "                [0, 0, 3],\n",
    "                [0, 0, 1]])\n",
    "confusion = undam + dam"
   ],
   "metadata": {
    "collapsed": false,
    "pycharm": {
     "name": "#%%\n"
    }
   }
  },
  {
   "cell_type": "code",
   "execution_count": 27,
   "outputs": [
    {
     "name": "stderr",
     "output_type": "stream",
     "text": [
      "C:\\Users\\Julius\\AppData\\Local\\Temp/ipykernel_18404/3732762825.py:10: UserWarning: Matplotlib is currently using module://matplotlib_inline.backend_inline, which is a non-GUI backend, so cannot show the figure.\n",
      "  fig.show()\n"
     ]
    },
    {
     "data": {
      "text/plain": "<Figure size 216x194.4 with 2 Axes>",
      "image/png": "[encoded data removed]"
     },
     "metadata": {
      "needs_background": "light"
     },
     "output_type": "display_data"
    }
   ],
   "source": [
    "x = [\"Green\", \"Amber\", \"Red\"]\n",
    "y = x\n",
    "\n",
    "fig, ax = plt.subplots(1, 1, figsize=(3, 2.7))\n",
    "sns.heatmap(confusion, xticklabels=x, yticklabels=y,annot=True, cmap='Blues')\n",
    "ax.set_xlabel(\"True\")\n",
    "ax.set_ylabel(\"Predicted\")\n",
    "ax.set_xticklabels(ax.get_xticklabels(),rotation = 0)\n",
    "fig.tight_layout()\n",
    "fig.show()\n",
    "fig.savefig('wallsdet.pdf', bbox_inches='tight')"
   ],
   "metadata": {
    "collapsed": false,
    "pycharm": {
     "name": "#%%\n"
    }
   }
  },
  {
   "cell_type": "code",
   "execution_count": 45,
   "outputs": [],
   "source": [
    "# Build, cls\n",
    "undam = np.array([[36, 0],\n",
    "                  [4, 0]])\n",
    "dam = np.array([[5, 17],\n",
    "                [1, 13]])\n",
    "confusion = undam + dam"
   ],
   "metadata": {
    "collapsed": false,
    "pycharm": {
     "name": "#%%\n"
    }
   }
  },
  {
   "cell_type": "code",
   "execution_count": 43,
   "outputs": [],
   "source": [
    "# Build, det\n",
    "undam = np.array([[39, 0],\n",
    "                  [1, 0]])\n",
    "dam = np.array([[5, 18],\n",
    "                [1, 12]])\n",
    "confusion = undam + dam"
   ],
   "metadata": {
    "collapsed": false,
    "pycharm": {
     "name": "#%%\n"
    }
   }
  },
  {
   "cell_type": "code",
   "execution_count": 41,
   "outputs": [],
   "source": [
    "# Combined\n",
    "undam = np.array([[35, 0],\n",
    "                  [5, 0]])\n",
    "dam = np.array([[5, 11],\n",
    "                [1, 19]])\n",
    "confusion = undam + dam"
   ],
   "metadata": {
    "collapsed": false,
    "pycharm": {
     "name": "#%%\n"
    }
   }
  },
  {
   "cell_type": "code",
   "execution_count": 46,
   "outputs": [
    {
     "name": "stderr",
     "output_type": "stream",
     "text": [
      "C:\\Users\\Julius\\AppData\\Local\\Temp/ipykernel_18404/491701772.py:10: UserWarning: Matplotlib is currently using module://matplotlib_inline.backend_inline, which is a non-GUI backend, so cannot show the figure.\n",
      "  fig.show()\n"
     ]
    },
    {
     "data": {
      "text/plain": "<Figure size 165.6x151.2 with 2 Axes>",
      "image/png": "[encoded data removed]"
     },
     "metadata": {
      "needs_background": "light"
     },
     "output_type": "display_data"
    }
   ],
   "source": [
    "x = [\"Green\", \"Red\"]\n",
    "y = x\n",
    "\n",
    "fig, ax = plt.subplots(1, 1, figsize=(2.3, 2.1))\n",
    "sns.heatmap(confusion, xticklabels=x, yticklabels=y,annot=True, cmap='Blues')\n",
    "ax.set_xlabel(\"True\")\n",
    "ax.set_ylabel(\"Predicted\")\n",
    "ax.set_xticklabels(ax.get_xticklabels(),rotation = 0)\n",
    "fig.tight_layout()\n",
    "fig.show()\n",
    "fig.savefig('buildcls.pdf', bbox_inches='tight')"
   ],
   "metadata": {
    "collapsed": false,
    "pycharm": {
     "name": "#%%\n"
    }
   }
  },
  {
   "cell_type": "code",
   "execution_count": null,
   "outputs": [],
   "source": [],
   "metadata": {
    "collapsed": false,
    "pycharm": {
     "name": "#%%\n"
    }
   }
  }
 ],
 "metadata": {
  "kernelspec": {
   "display_name": "Python 3",
   "language": "python",
   "name": "python3"
  },
  "language_info": {
   "codemirror_mode": {
    "name": "ipython",
    "version": 2
   },
   "file_extension": ".py",
   "mimetype": "text/x-python",
   "name": "python",
   "nbconvert_exporter": "python",
   "pygments_lexer": "ipython2",
   "version": "2.7.6"
  }
 },
 "nbformat": 4,
 "nbformat_minor": 0
}