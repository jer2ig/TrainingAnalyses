{
 "cells": [
  {
   "cell_type": "code",
   "execution_count": 5,
   "outputs": [],
   "source": [
    "%matplotlib inline\n",
    "import wandb\n",
    "import matplotlib.pyplot as plt\n",
    "import pandas as pd\n",
    "import plotly\n",
    "import plotly.express as px\n",
    "from plotly.subplots import make_subplots\n",
    "import plotly.graph_objects as go\n",
    "import seaborn as sns"
   ],
   "metadata": {
    "collapsed": false,
    "pycharm": {
     "name": "#%%\n"
    }
   }
  },
  {
   "cell_type": "markdown",
   "source": [
    "# Read data from wandb api or alternatively from text file"
   ],
   "metadata": {
    "collapsed": false,
    "pycharm": {
     "name": "#%% md\n"
    }
   }
  },
  {
   "cell_type": "markdown",
   "source": [
    "API key must be set up in command line using\n",
    "$ wandb login"
   ],
   "metadata": {
    "collapsed": false,
    "pycharm": {
     "name": "#%% md\n"
    }
   }
  },
  {
   "cell_type": "code",
   "execution_count": 6,
   "outputs": [],
   "source": [
    "api = wandb.Api()\n",
    "yolo = api.run(\"jer2ig/YOLOv5-Classifier/2fu7s8ta\")\n",
    "vgg = api.run(\"jer2ig/yolo_fork-damage_assessment/2xzt2ha9\")"
   ],
   "metadata": {
    "collapsed": false,
    "pycharm": {
     "name": "#%%\n"
    }
   }
  },
  {
   "cell_type": "markdown",
   "source": [
    "# Plot data"
   ],
   "metadata": {
    "collapsed": false,
    "pycharm": {
     "name": "#%% md\n"
    }
   }
  },
  {
   "cell_type": "code",
   "execution_count": 26,
   "outputs": [
    {
     "name": "stderr",
     "output_type": "stream",
     "text": [
      "C:\\Users\\Julius\\AppData\\Local\\Temp/ipykernel_15768/2353351549.py:22: UserWarning: Matplotlib is currently using module://matplotlib_inline.backend_inline, which is a non-GUI backend, so cannot show the figure.\n",
      "  fig.show()\n"
     ]
    },
    {
     "data": {
      "text/plain": "<Figure size 216x216 with 1 Axes>",
      "image/png": "[encoded data removed]"
     },
     "metadata": {
      "needs_background": "light"
     },
     "output_type": "display_data"
    }
   ],
   "source": [
    "vgg_hist = vgg.history(x_axis=\"_step\", pandas=(True), stream=\"default\")\n",
    "vgg_hist = vgg_hist.rename(columns={\"val/Loss\": \"test/loss\",\n",
    "                                    \"train/Loss\": \"train/loss\",\n",
    "                                    \"val/Acc@1\" : \"metrics/accuracy_top1\"\n",
    "                                    })\n",
    "vgg_hist[\"metrics/accuracy_top1\"] /= 100\n",
    "vgg_hist = vgg_hist.rename(columns=lambda c: \"vgg:\"+str(c))\n",
    "yolo_hist = yolo.history(x_axis=\"_step\", pandas=(True), stream=\"default\")\n",
    "yolo_hist = yolo_hist.rename(columns=lambda c: \"yolo:\"+str(c))\n",
    "\n",
    "runs = pd.concat([vgg_hist, yolo_hist], axis=1)\n",
    "\n",
    "fig, ax = plt.subplots(1, 1, figsize=(3, 3))\n",
    "\n",
    "sns.lineplot(data=runs.filter(regex=\"accuracy_top1\"),legend=None, ax=ax, linewidth=.75)\n",
    "ax.set_xlabel(\"Iteration\")\n",
    "ax.set_ylabel(\"Top 1 Accuracy\")\n",
    "ax.set_ylim(0,1)\n",
    "\n",
    "fig.tight_layout()\n",
    "fig.legend(labels=[\"VGG-16\", \"Yolov5n\"],loc='right', bbox_to_anchor=(1.35, 0.5), bbox_transform=plt.gcf().transFigure)\n",
    "fig.show()\n",
    "fig.savefig('trial_classification.pdf', bbox_inches='tight')\n"
   ],
   "metadata": {
    "collapsed": false,
    "pycharm": {
     "name": "#%%\n"
    }
   }
  },
  {
   "cell_type": "code",
   "execution_count": 1,
   "outputs": [
    {
     "ename": "NameError",
     "evalue": "name 'plt' is not defined",
     "output_type": "error",
     "traceback": [
      "\u001B[1;31m---------------------------------------------------------------------------\u001B[0m",
      "\u001B[1;31mNameError\u001B[0m                                 Traceback (most recent call last)",
      "\u001B[1;32m~\\AppData\\Local\\Temp/ipykernel_15420/239163394.py\u001B[0m in \u001B[0;36m<module>\u001B[1;34m\u001B[0m\n\u001B[1;32m----> 1\u001B[1;33m \u001B[0mfig\u001B[0m\u001B[1;33m,\u001B[0m \u001B[0max\u001B[0m \u001B[1;33m=\u001B[0m \u001B[0mplt\u001B[0m\u001B[1;33m.\u001B[0m\u001B[0msubplots\u001B[0m\u001B[1;33m(\u001B[0m\u001B[1;36m1\u001B[0m\u001B[1;33m,\u001B[0m \u001B[1;36m2\u001B[0m\u001B[1;33m,\u001B[0m\u001B[0msharey\u001B[0m\u001B[1;33m=\u001B[0m\u001B[1;34m'row'\u001B[0m\u001B[1;33m,\u001B[0m\u001B[0msharex\u001B[0m\u001B[1;33m=\u001B[0m \u001B[1;34m'col'\u001B[0m\u001B[1;33m,\u001B[0m \u001B[0mfigsize\u001B[0m\u001B[1;33m=\u001B[0m\u001B[1;33m(\u001B[0m\u001B[1;36m8\u001B[0m\u001B[1;33m,\u001B[0m \u001B[1;36m2.5\u001B[0m\u001B[1;33m)\u001B[0m\u001B[1;33m)\u001B[0m\u001B[1;33m\u001B[0m\u001B[1;33m\u001B[0m\u001B[0m\n\u001B[0m\u001B[0;32m      2\u001B[0m \u001B[1;33m\u001B[0m\u001B[0m\n\u001B[0;32m      3\u001B[0m \u001B[0max\u001B[0m\u001B[1;33m[\u001B[0m\u001B[1;36m0\u001B[0m\u001B[1;33m]\u001B[0m\u001B[1;33m.\u001B[0m\u001B[0mset_title\u001B[0m\u001B[1;33m(\u001B[0m\u001B[1;34m\"Training\"\u001B[0m\u001B[1;33m)\u001B[0m\u001B[1;33m\u001B[0m\u001B[1;33m\u001B[0m\u001B[0m\n\u001B[0;32m      4\u001B[0m \u001B[0max\u001B[0m\u001B[1;33m[\u001B[0m\u001B[1;36m1\u001B[0m\u001B[1;33m]\u001B[0m\u001B[1;33m.\u001B[0m\u001B[0mset_title\u001B[0m\u001B[1;33m(\u001B[0m\u001B[1;34m\"Testing\"\u001B[0m\u001B[1;33m)\u001B[0m\u001B[1;33m\u001B[0m\u001B[1;33m\u001B[0m\u001B[0m\n\u001B[0;32m      5\u001B[0m \u001B[1;33m\u001B[0m\u001B[0m\n",
      "\u001B[1;31mNameError\u001B[0m: name 'plt' is not defined"
     ]
    }
   ],
   "source": [
    "fig, ax = plt.subplots(1, 2,sharey='row',sharex= 'col', figsize=(6, 3))\n",
    "\n",
    "ax[0].set_title(\"Training\")\n",
    "ax[1].set_title(\"Testing\")\n",
    "\n",
    "sns.lineplot(data=runs.filter(regex=\"train/loss\"),legend=None, ax=ax[0], linewidth=.75)\n",
    "ax[0].set_ylabel(\"Loss\")\n",
    "ax[0].set_xlabel(\"Iteration\")\n",
    "ax[0].set_ylim(0,1)\n",
    "sns.lineplot(data=runs.filter(regex=\"test/loss\"),legend=None, ax=ax[1], linewidth=.75)\n",
    "ax[1].set_xlabel(\"Iteration\")\n",
    "\n",
    "#fig.legend(labels=[\"yolo5n\",\"yolo5m\"],loc='lower center', bbox_to_anchor=(0.5, -0.05))\n",
    "fig.tight_layout()\n",
    "fig.legend(labels=[\"VGG-16\", \"Yolov5n\"],loc='right', bbox_to_anchor=(1.2, 0.5), bbox_transform=plt.gcf().transFigure)\n",
    "fig.show()\n",
    "#fig.subplots_adjust(bottom=0.2)\n",
    "fig.savefig('trial_loss_classification.pdf', bbox_inches='tight')"
   ],
   "metadata": {
    "collapsed": false,
    "pycharm": {
     "name": "#%%\n"
    }
   }
  },
  {
   "cell_type": "code",
   "execution_count": null,
   "outputs": [],
   "source": [],
   "metadata": {
    "collapsed": false,
    "pycharm": {
     "name": "#%%\n"
    }
   }
  }
 ],
 "metadata": {
  "kernelspec": {
   "display_name": "Python 3",
   "language": "python",
   "name": "python3"
  },
  "language_info": {
   "codemirror_mode": {
    "name": "ipython",
    "version": 2
   },
   "file_extension": ".py",
   "mimetype": "text/x-python",
   "name": "python",
   "nbconvert_exporter": "python",
   "pygments_lexer": "ipython2",
   "version": "2.7.6"
  }
 },
 "nbformat": 4,
 "nbformat_minor": 0
}